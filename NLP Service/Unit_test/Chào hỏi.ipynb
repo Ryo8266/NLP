{
 "cells": [
  {
   "cell_type": "code",
   "execution_count": 1,
   "metadata": {},
   "outputs": [],
   "source": [
    "import pandas as pd\n",
    "import json \n",
    "\n",
    "data = pd.read_csv(\"FEC collection_Scorecard_chuadenhan(1).csv\")"
   ]
  },
  {
   "cell_type": "code",
   "execution_count": 2,
   "metadata": {},
   "outputs": [
    {
     "data": {
      "text/html": [
       "<div>\n",
       "<style scoped>\n",
       "    .dataframe tbody tr th:only-of-type {\n",
       "        vertical-align: middle;\n",
       "    }\n",
       "\n",
       "    .dataframe tbody tr th {\n",
       "        vertical-align: top;\n",
       "    }\n",
       "\n",
       "    .dataframe thead th {\n",
       "        text-align: right;\n",
       "    }\n",
       "</style>\n",
       "<table border=\"1\" class=\"dataframe\">\n",
       "  <thead>\n",
       "    <tr style=\"text-align: right;\">\n",
       "      <th></th>\n",
       "      <th>file_name</th>\n",
       "      <th>criterion_name</th>\n",
       "      <th>audit_result</th>\n",
       "      <th>reason</th>\n",
       "      <th>group</th>\n",
       "    </tr>\n",
       "  </thead>\n",
       "  <tbody>\n",
       "    <tr>\n",
       "      <th>0</th>\n",
       "      <td>0OIM2CTEE10C34927RKO5VTGJC055JHC_2024-03-06_06...</td>\n",
       "      <td>CallResult</td>\n",
       "      <td>Willpay</td>\n",
       "      <td>NaN</td>\n",
       "      <td>NaN</td>\n",
       "    </tr>\n",
       "    <tr>\n",
       "      <th>1</th>\n",
       "      <td>0OIM2CTEE10C34927RKO5VTGJC055JHC_2024-03-06_06...</td>\n",
       "      <td>CallClassify</td>\n",
       "      <td>Client</td>\n",
       "      <td>NaN</td>\n",
       "      <td>NaN</td>\n",
       "    </tr>\n",
       "    <tr>\n",
       "      <th>2</th>\n",
       "      <td>0OIM2CTEE10C34927RKO5VTGJC055JHC_2024-03-06_06...</td>\n",
       "      <td>CallAbnormal</td>\n",
       "      <td>Normal</td>\n",
       "      <td>NaN</td>\n",
       "      <td>NaN</td>\n",
       "    </tr>\n",
       "    <tr>\n",
       "      <th>3</th>\n",
       "      <td>0OIM2CTEE10C34927RKO5VTGJC055JHC_2024-03-06_06...</td>\n",
       "      <td>CallAbnormalClassify</td>\n",
       "      <td>normal</td>\n",
       "      <td>NaN</td>\n",
       "      <td>NaN</td>\n",
       "    </tr>\n",
       "    <tr>\n",
       "      <th>4</th>\n",
       "      <td>0OIM2CTEE10C34927RKO5VTGJC055JHC_2024-03-06_06...</td>\n",
       "      <td>Suspicious fraud</td>\n",
       "      <td>No</td>\n",
       "      <td>NaN</td>\n",
       "      <td>NaN</td>\n",
       "    </tr>\n",
       "    <tr>\n",
       "      <th>5</th>\n",
       "      <td>0OIM2CTEE10C34927RKO5VTGJC055JHC_2024-03-06_06...</td>\n",
       "      <td>Chào hỏi</td>\n",
       "      <td>Yes_5</td>\n",
       "      <td>agent thực hiện các ý \\n- chào hỏi:  \"alo dạ e...</td>\n",
       "      <td>NaN</td>\n",
       "    </tr>\n",
       "    <tr>\n",
       "      <th>6</th>\n",
       "      <td>0OIM2CTEE10C34927RKO5VTGJC055JHC_2024-03-06_06...</td>\n",
       "      <td>Thông báo về hợp đồng của khách hàng</td>\n",
       "      <td>Yes_10</td>\n",
       "      <td>agent thực hiện các ý \\n- sản phẩm: hợp đồng m...</td>\n",
       "      <td>NaN</td>\n",
       "    </tr>\n",
       "    <tr>\n",
       "      <th>7</th>\n",
       "      <td>0OIM2CTEE10C34927RKO5VTGJC055JHC_2024-03-06_06...</td>\n",
       "      <td>Làm rõ lí do Khách hàng không thanh toán sớm/t...</td>\n",
       "      <td>Yes_5</td>\n",
       "      <td>agent có hỏi lí do \"dạ em thấy là từ lúc đóng ...</td>\n",
       "      <td>NaN</td>\n",
       "    </tr>\n",
       "    <tr>\n",
       "      <th>8</th>\n",
       "      <td>0OIM2CTEE10C34927RKO5VTGJC055JHC_2024-03-06_06...</td>\n",
       "      <td>Xử lý từ chối do không có thiện chí thanh toán</td>\n",
       "      <td>Yes_20</td>\n",
       "      <td>khách hàng cam kết thanh toán =&gt; không có tình...</td>\n",
       "      <td>NaN</td>\n",
       "    </tr>\n",
       "    <tr>\n",
       "      <th>9</th>\n",
       "      <td>0OIM2CTEE10C34927RKO5VTGJC055JHC_2024-03-06_06...</td>\n",
       "      <td>Xử lý từ chối do mất khả năng thanh toán</td>\n",
       "      <td>Yes_20</td>\n",
       "      <td>khách hàng cam kết thanh toán =&gt; không có tình...</td>\n",
       "      <td>NaN</td>\n",
       "    </tr>\n",
       "    <tr>\n",
       "      <th>10</th>\n",
       "      <td>0OIM2CTEE10C34927RKO5VTGJC055JHC_2024-03-06_06...</td>\n",
       "      <td>Thông tin thanh toán</td>\n",
       "      <td>No</td>\n",
       "      <td>- ngày tt: agent chưa xác nhận với KH\\n- kênh...</td>\n",
       "      <td>NaN</td>\n",
       "    </tr>\n",
       "    <tr>\n",
       "      <th>11</th>\n",
       "      <td>0OIM2CTEE10C34927RKO5VTGJC055JHC_2024-03-06_06...</td>\n",
       "      <td>Thông tin cam kết thanh toán</td>\n",
       "      <td>Yes_5</td>\n",
       "      <td>sau này khả năng khó đi vay vốn lại lắm nha ch...</td>\n",
       "      <td>NaN</td>\n",
       "    </tr>\n",
       "    <tr>\n",
       "      <th>12</th>\n",
       "      <td>0OIM2CTEE10C34927RKO5VTGJC055JHC_2024-03-06_06...</td>\n",
       "      <td>Chốt nội dung cuộc gọi</td>\n",
       "      <td>No</td>\n",
       "      <td>- chốt nội dung: dạ rồi chế giùm em 779000 đồ...</td>\n",
       "      <td>NaN</td>\n",
       "    </tr>\n",
       "    <tr>\n",
       "      <th>13</th>\n",
       "      <td>0OIM2CTEE10C34927RKO5VTGJC055JHC_2024-03-06_06...</td>\n",
       "      <td>Giải quyết thắc mắc, khiếu nại của Khách hàng</td>\n",
       "      <td>Yes_10</td>\n",
       "      <td>NaN</td>\n",
       "      <td>NaN</td>\n",
       "    </tr>\n",
       "    <tr>\n",
       "      <th>14</th>\n",
       "      <td>0OIM2CTEE10C34927RKO5VTGJC055JHC_2024-03-06_06...</td>\n",
       "      <td>Thái độ, ngôn ngữ, cảm xúc, ngữ điệu, lắng ngh...</td>\n",
       "      <td>Yes_10</td>\n",
       "      <td>NaN</td>\n",
       "      <td>NaN</td>\n",
       "    </tr>\n",
       "    <tr>\n",
       "      <th>15</th>\n",
       "      <td>0OIM2CTEE10C34927RKO5VTGJC055P00_2024-03-06_07...</td>\n",
       "      <td>CallResult</td>\n",
       "      <td>Willpay</td>\n",
       "      <td>NaN</td>\n",
       "      <td>NaN</td>\n",
       "    </tr>\n",
       "  </tbody>\n",
       "</table>\n",
       "</div>"
      ],
      "text/plain": [
       "                                            file_name  \\\n",
       "0   0OIM2CTEE10C34927RKO5VTGJC055JHC_2024-03-06_06...   \n",
       "1   0OIM2CTEE10C34927RKO5VTGJC055JHC_2024-03-06_06...   \n",
       "2   0OIM2CTEE10C34927RKO5VTGJC055JHC_2024-03-06_06...   \n",
       "3   0OIM2CTEE10C34927RKO5VTGJC055JHC_2024-03-06_06...   \n",
       "4   0OIM2CTEE10C34927RKO5VTGJC055JHC_2024-03-06_06...   \n",
       "5   0OIM2CTEE10C34927RKO5VTGJC055JHC_2024-03-06_06...   \n",
       "6   0OIM2CTEE10C34927RKO5VTGJC055JHC_2024-03-06_06...   \n",
       "7   0OIM2CTEE10C34927RKO5VTGJC055JHC_2024-03-06_06...   \n",
       "8   0OIM2CTEE10C34927RKO5VTGJC055JHC_2024-03-06_06...   \n",
       "9   0OIM2CTEE10C34927RKO5VTGJC055JHC_2024-03-06_06...   \n",
       "10  0OIM2CTEE10C34927RKO5VTGJC055JHC_2024-03-06_06...   \n",
       "11  0OIM2CTEE10C34927RKO5VTGJC055JHC_2024-03-06_06...   \n",
       "12  0OIM2CTEE10C34927RKO5VTGJC055JHC_2024-03-06_06...   \n",
       "13  0OIM2CTEE10C34927RKO5VTGJC055JHC_2024-03-06_06...   \n",
       "14  0OIM2CTEE10C34927RKO5VTGJC055JHC_2024-03-06_06...   \n",
       "15  0OIM2CTEE10C34927RKO5VTGJC055P00_2024-03-06_07...   \n",
       "\n",
       "                                       criterion_name audit_result  \\\n",
       "0                                          CallResult      Willpay   \n",
       "1                                        CallClassify       Client   \n",
       "2                                        CallAbnormal       Normal   \n",
       "3                                CallAbnormalClassify       normal   \n",
       "4                                    Suspicious fraud           No   \n",
       "5                                            Chào hỏi        Yes_5   \n",
       "6                Thông báo về hợp đồng của khách hàng       Yes_10   \n",
       "7   Làm rõ lí do Khách hàng không thanh toán sớm/t...        Yes_5   \n",
       "8      Xử lý từ chối do không có thiện chí thanh toán       Yes_20   \n",
       "9            Xử lý từ chối do mất khả năng thanh toán       Yes_20   \n",
       "10                               Thông tin thanh toán           No   \n",
       "11                       Thông tin cam kết thanh toán        Yes_5   \n",
       "12                             Chốt nội dung cuộc gọi           No   \n",
       "13      Giải quyết thắc mắc, khiếu nại của Khách hàng       Yes_10   \n",
       "14  Thái độ, ngôn ngữ, cảm xúc, ngữ điệu, lắng ngh...       Yes_10   \n",
       "15                                         CallResult      Willpay   \n",
       "\n",
       "                                               reason  group  \n",
       "0                                                 NaN    NaN  \n",
       "1                                                 NaN    NaN  \n",
       "2                                                 NaN    NaN  \n",
       "3                                                 NaN    NaN  \n",
       "4                                                 NaN    NaN  \n",
       "5   agent thực hiện các ý \\n- chào hỏi:  \"alo dạ e...    NaN  \n",
       "6   agent thực hiện các ý \\n- sản phẩm: hợp đồng m...    NaN  \n",
       "7   agent có hỏi lí do \"dạ em thấy là từ lúc đóng ...    NaN  \n",
       "8   khách hàng cam kết thanh toán => không có tình...    NaN  \n",
       "9   khách hàng cam kết thanh toán => không có tình...    NaN  \n",
       "10   - ngày tt: agent chưa xác nhận với KH\\n- kênh...    NaN  \n",
       "11  sau này khả năng khó đi vay vốn lại lắm nha ch...    NaN  \n",
       "12   - chốt nội dung: dạ rồi chế giùm em 779000 đồ...    NaN  \n",
       "13                                                NaN    NaN  \n",
       "14                                                NaN    NaN  \n",
       "15                                                NaN    NaN  "
      ]
     },
     "execution_count": 2,
     "metadata": {},
     "output_type": "execute_result"
    }
   ],
   "source": [
    "data.head(16)"
   ]
  },
  {
   "cell_type": "code",
   "execution_count": 3,
   "metadata": {},
   "outputs": [],
   "source": [
    "# #Không có nhãn thì dùng\n",
    "# df_filtered = data.dropna(subset=['audit_result'])\n",
    "# df_filtered.to_csv('FEC collection_Scorecard_chuadenhan(1).csv', index=False)"
   ]
  },
  {
   "cell_type": "code",
   "execution_count": 4,
   "metadata": {},
   "outputs": [],
   "source": [
    "expected_rs = []\n",
    "for i in range(len(data)):\n",
    "    if data[\"criterion_name\"][i] == \"Chào hỏi\":\n",
    "        expected_rs.append({\n",
    "            \"file_name\": data[\"file_name\"][i],\n",
    "            \"expected_result\": data[\"audit_result\"][i]\n",
    "        })"
   ]
  },
  {
   "cell_type": "code",
   "execution_count": 5,
   "metadata": {},
   "outputs": [],
   "source": [
    "count_rs_no = 0\n",
    "count_rs_yes_5 = 0\n",
    "count_rs_yes_10 = 0\n",
    "for i in range(len(data)):\n",
    "    if data [\"criterion_name\"][i] == \"Chào hỏi\":\n",
    "        if data[\"audit_result\"][i] == \"No\":\n",
    "            count_rs_no +=1\n",
    "        if data[\"audit_result\"][i] == \"Yes_5\":\n",
    "            count_rs_yes_5 +=1\n",
    "        if data[\"audit_result\"][i] == \"Yes_10\":\n",
    "            count_rs_yes_10 +=1"
   ]
  },
  {
   "cell_type": "code",
   "execution_count": 6,
   "metadata": {},
   "outputs": [],
   "source": [
    "with open(\"C:/Users/akuma/Downloads/NLP Service/Unit_test/result/result_greeting_8_10_chuadenhan_amount.json\", \"r\") as f:\n",
    "    model_rs = json.load(f)"
   ]
  },
  {
   "cell_type": "markdown",
   "metadata": {},
   "source": [
    "tổng số lượng call"
   ]
  },
  {
   "cell_type": "code",
   "execution_count": 7,
   "metadata": {},
   "outputs": [
    {
     "data": {
      "text/plain": [
       "494"
      ]
     },
     "execution_count": 7,
     "metadata": {},
     "output_type": "execute_result"
    }
   ],
   "source": [
    "len(model_rs)"
   ]
  },
  {
   "cell_type": "markdown",
   "metadata": {},
   "source": [
    "Số lượng nhãn trong file CSV"
   ]
  },
  {
   "cell_type": "code",
   "execution_count": 8,
   "metadata": {},
   "outputs": [
    {
     "data": {
      "text/plain": [
       "202"
      ]
     },
     "execution_count": 8,
     "metadata": {},
     "output_type": "execute_result"
    }
   ],
   "source": [
    "len(expected_rs)"
   ]
  },
  {
   "cell_type": "markdown",
   "metadata": {},
   "source": [
    "Xử lý dữ liệu đếm số lượng các phần tử có trong mảng"
   ]
  },
  {
   "cell_type": "code",
   "execution_count": 9,
   "metadata": {},
   "outputs": [],
   "source": [
    "count_result_no = 0\n",
    "count_result_yes_10 = 0\n",
    "count_result_yes_5 = 0\n",
    "cout_result_fail = 0\n",
    "fn = 0\n",
    "for i in model_rs:\n",
    "    for j in expected_rs:\n",
    "        if i[\"file_name\"] == j[\"file_name\"]:\n",
    "            if j[\"expected_result\"] == i[\"result\"] == \"No\":\n",
    "                count_result_no +=1\n",
    "            if j[\"expected_result\"] == i[\"result\"] == \"Yes_10\":\n",
    "                count_result_yes_10 +=1\n",
    "            if j[\"expected_result\"] == i[\"result\"] == \"Yes_5\":\n",
    "                count_result_yes_5 +=1\n",
    "            if j[\"expected_result\"] != i[\"result\"]:\n",
    "                cout_result_fail +=1\n",
    "            fn +=1\n",
    "#output_sum = count + count_result_yes + cout_result_fail         \n",
    "#a = count/len(expected_rs)*100"
   ]
  },
  {
   "cell_type": "markdown",
   "metadata": {},
   "source": [
    "In số lượng"
   ]
  },
  {
   "cell_type": "code",
   "execution_count": 10,
   "metadata": {},
   "outputs": [
    {
     "name": "stdout",
     "output_type": "stream",
     "text": [
      "Tiêu chí Greeting trên bot GreetByThankFEC\n",
      "Số lượng nhãn có Expected là No (các case vi phạm) trùng nhau: 1\n",
      "Số lượng nhãn có Expected là Yes_5 (các case không vi phạm) trùng nhau: 183\n",
      "Số lượng nhãn có Expected là Yes_10 (các case không vi phạm) trùng nhau: 2\n",
      "Số lượng nhãn có Expected không trùng nhau (bot bắt sai): 16\n",
      "Tổng số lượng nhãn có Expected là Yes (Yes_5 + Yes_10): 185\n"
     ]
    }
   ],
   "source": [
    "print (\"Tiêu chí Greeting trên bot GreetByThankFEC\")\n",
    "print(f\"Số lượng nhãn có Expected là No (các case vi phạm) trùng nhau: {count_result_no}\")\n",
    "print(f\"Số lượng nhãn có Expected là Yes_5 (các case không vi phạm) trùng nhau: {count_result_yes_5}\")\n",
    "print(f\"Số lượng nhãn có Expected là Yes_10 (các case không vi phạm) trùng nhau: {count_result_yes_10}\")\n",
    "print(f\"Số lượng nhãn có Expected không trùng nhau (bot bắt sai): {cout_result_fail}\")\n",
    "print(f\"Tổng số lượng nhãn có Expected là Yes (Yes_5 + Yes_10): {count_result_yes_5 + count_result_yes_10}\")"
   ]
  },
  {
   "cell_type": "code",
   "execution_count": 11,
   "metadata": {},
   "outputs": [],
   "source": [
    "count = 0\n",
    "count_result_yes = 0\n",
    "cout_result_fail = 0\n",
    "test_result_TC_3 = []\n",
    "\n",
    "fn = 0\n",
    "for i in model_rs:\n",
    "    for j in expected_rs:\n",
    "        if i[\"file_name\"] == j[\"file_name\"]:\n",
    "            if j[\"expected_result\"] == i[\"result\"]:\n",
    "                a = \"Pass\"\n",
    "            else:\n",
    "                a=\"Fail\"\n",
    "            test_result_TC_3.append({\n",
    "                    \"File_name\": i[\"file_name\"],\n",
    "                    \"Expected_result\": j[\"expected_result\"],\n",
    "                    \"predicted\": i[\"result\"],  \n",
    "                    \"Test_Result\": a\n",
    "            })\n",
    "\n",
    "#output_sum = count + count_result_yes + cout_result_fail         \n",
    "#a = count/len(expected_rs)*100"
   ]
  },
  {
   "cell_type": "code",
   "execution_count": 12,
   "metadata": {},
   "outputs": [],
   "source": [
    "import pandas as pd\n",
    "import numpy as np\n",
    "\n",
    "data = test_result_TC_3\n",
    "\n",
    "df = pd.DataFrame(data)\n",
    "\n",
    "count_no = df[(df['Expected_result'].isna()) & (df['predicted'] == 'No')].shape[0]\n",
    "count_yes_5 = df[(df['Expected_result'].isna()) & (df['predicted'] == 'Yes_5')].shape[0]\n",
    "count_yes_10 = df[(df['Expected_result'].isna()) & (df['predicted'] == 'Yes_10')].shape[0]\n",
    "count_yes = count_yes_5 + count_yes_10"
   ]
  },
  {
   "cell_type": "code",
   "execution_count": 13,
   "metadata": {},
   "outputs": [
    {
     "name": "stdout",
     "output_type": "stream",
     "text": [
      "Số case Expected = N/A bot Predicted = Yes: 0\n",
      "Số case Expected = N/A bot Predicted = No: 0\n"
     ]
    }
   ],
   "source": [
    "print(f\"Số case Expected = N/A bot Predicted = Yes: {count_yes}\")\n",
    "print(f\"Số case Expected = N/A bot Predicted = No: {count_no}\")"
   ]
  },
  {
   "cell_type": "code",
   "execution_count": 14,
   "metadata": {},
   "outputs": [],
   "source": [
    "sum_count_true_no = sum(1 for item in test_result_TC_3 if item['Expected_result'] == item['predicted']== \"No\")\n",
    "\n",
    "sum_count_true_yes_5 = sum(1 for item in test_result_TC_3 if item['Expected_result'] == item['predicted']== \"Yes_5\")\n",
    "\n",
    "sum_count_true_yes_10 = sum(1 for item in test_result_TC_3 if item['Expected_result'] == item['predicted']== \"Yes_10\")\n",
    "\n",
    "count_bot_predict_no = sum(1 for item in test_result_TC_3 if item['predicted']== \"No\")\n",
    "\n",
    "count_bot_predict_yes_10 = sum(1 for item in test_result_TC_3 if item['predicted']== \"Yes_10\")\n",
    "\n",
    "count_bot_predict_yes_5 = sum(1 for item in test_result_TC_3 if item['predicted']== \"Yes_5\")\n",
    "\n",
    "\n",
    "sum_count_bot_predict_yes = count_bot_predict_yes_10 + count_bot_predict_yes_5\n",
    "sum_count_true_yes = sum_count_true_yes_5 + sum_count_true_yes_10\n",
    "\n",
    "sum_count_fail_yes = sum_count_bot_predict_yes - sum_count_true_yes\n",
    "\n",
    "sum_count_fail_no = count_bot_predict_no - sum_count_true_no\n",
    "\n",
    "output_sum = sum_count_true_yes + sum_count_true_no\n",
    "total_confident_pass = \"{:.2f}\".format(output_sum/len(expected_rs) * 100)\n",
    "total_confident_pass_yes_5 = \"{:.2f}\".format((sum_count_true_yes_5/count_bot_predict_yes_5) * 100)\n",
    "total_confident_pass_yes_10 = \"{:.2f}\".format((sum_count_true_yes_10/count_bot_predict_yes_10) * 100)\n",
    "total_confident_fail = \"{:.2f}\".format(sum_count_true_no/count_bot_predict_no * 100)"
   ]
  },
  {
   "cell_type": "code",
   "execution_count": 15,
   "metadata": {},
   "outputs": [
    {
     "name": "stdout",
     "output_type": "stream",
     "text": [
      "Kết quả test với 202 có nhãn\n",
      "Tập test có 3 case No\n",
      "Tập test có 195 case Yes_5\n",
      "Tập test có 4 case Yes_10\n",
      "-------------------------------------------------------------------------------------\n",
      "Tổng số case bot Predicted là Yes_5: 186 case\n",
      "Tổng số case Yes_5 bot bắt đúng: 183 case\n",
      "-------------------------------------------------------------------------------------\n",
      "Tổng số case bot Predicted là Yes_10: 2 case\n",
      "Tổng số case Yes_10 bot bắt đúng: 2 case\n",
      "-------------------------------------------------------------------------------------\n",
      "Tổng số case bot Predicted là No: 14 case\n",
      "Tổng số case bot bắt đúng: 1 case\n",
      "-------------------------------------------------------------------------------------\n",
      "tỷ lệ bot bắt đúng: 92.08\n",
      "tỷ lệ bot bắt đúng trên case No: 7.14\n",
      "tỷ lệ bot bắt đúng trên case Yes_5: 98.39\n",
      "tỷ lệ bot bắt đúng trên case Yes_10: 100.00\n"
     ]
    }
   ],
   "source": [
    "print(f\"Kết quả test với {len(expected_rs)} có nhãn\")\n",
    "print(f\"Tập test có {count_rs_no} case No\")\n",
    "print(f\"Tập test có {count_rs_yes_5} case Yes_5\")\n",
    "print(f\"Tập test có {count_rs_yes_10} case Yes_10\")\n",
    "print(f\"-------------------------------------------------------------------------------------\")\n",
    "print(f\"Tổng số case bot Predicted là Yes_5: {count_bot_predict_yes_5} case\")\n",
    "print(f\"Tổng số case Yes_5 bot bắt đúng: {sum_count_true_yes_5} case\")\n",
    "print(f\"-------------------------------------------------------------------------------------\")\n",
    "print(f\"Tổng số case bot Predicted là Yes_10: {count_bot_predict_yes_10} case\")\n",
    "print(f\"Tổng số case Yes_10 bot bắt đúng: {sum_count_true_yes_10} case\")\n",
    "print(f\"-------------------------------------------------------------------------------------\")\n",
    "print(f\"Tổng số case bot Predicted là No: {count_bot_predict_no} case\")\n",
    "print(f\"Tổng số case bot bắt đúng: {sum_count_true_no} case\")\n",
    "print(f\"-------------------------------------------------------------------------------------\")\n",
    "print(f\"tỷ lệ bot bắt đúng: {total_confident_pass}\")\n",
    "print(f\"tỷ lệ bot bắt đúng trên case No: {total_confident_fail}\")\n",
    "print(f\"tỷ lệ bot bắt đúng trên case Yes_5: {total_confident_pass_yes_5}\")\n",
    "print(f\"tỷ lệ bot bắt đúng trên case Yes_10: {total_confident_pass_yes_10}\")"
   ]
  },
  {
   "cell_type": "code",
   "execution_count": 16,
   "metadata": {},
   "outputs": [],
   "source": [
    "# print(f\"Kết quả test với {len(expected_rs)} có nhãn\")\n",
    "# print(f\"Tập test có {count_rs_no} case No\")\n",
    "# print(f\"Tập test có {count_rs_yes_5} case Yes_5\")\n",
    "# print(f\"Tập test có {count_rs_yes_10} case Yes_10\")\n",
    "# print(f\"-------------------------------------------------------------------------------------\")\n",
    "# print(f\"Tổng số case bot Predicted là Yes (case không vi phạm): {sum_count_bot_predict_yes} case\")\n",
    "# print(f\"Tổng số case (không vi phạm) bot bắt đúng: {sum_count_true_yes} case\")\n",
    "# print(f\"-------------------------------------------------------------------------------------\")\n",
    "# print(f\"Tổng số case (không vi phạm) bot bắt sai: {sum_count_fail_yes} case\")\n",
    "# print(f\"Tổng số case Expected N/A bot Predicted Yes: {count_yes} case\")\n",
    "# print(f\"Tổng số case còn lại Expected = No bot Predicted = Yes: {sum_count_fail_yes - count_yes} case\")\n",
    "# print(f\"-------------------------------------------------------------------------------------\")\n",
    "# print(f\"Tổng số case bot Predicted là No (case vi phạm): {count_bot_predict_no} case\")\n",
    "# print(f\"Tổng số case (vi phạm) bot bắt đúng: {sum_count_true_no} case\")\n",
    "# print(f\"-------------------------------------------------------------------------------------\")\n",
    "# print(f\"Tổng số case (vi phạm) bot bắt sai: {sum_count_fail_no} case\")\n",
    "# print(f\"Tổng số case Expected N/A bot Predicted = No: {count_no} case\")\n",
    "# print(f\"Tổng số case sai còn lại Trường hợp Expected = Yes bot Predicted = No: {sum_count_fail_no - count_no} case\")\n",
    "# print(f\"-------------------------------------------------------------------------------------\")\n",
    "# print(f\"Tổng số case bot Predicted là Yes_5 (case không vi phạm): {count_bot_predict_yes_5} case\")\n",
    "# print(f\"Tổng số case (không vi phạm) bot bắt đúng: {sum_count_true_yes_5} case\")\n",
    "# print(f\"-------------------------------------------------------------------------------------\")\n",
    "# print(f\"Tổng số case bot Predicted là Yes_10 (case không vi phạm): {count_bot_predict_yes_10} case\")\n",
    "# print(f\"Tổng số case (không vi phạm) bot bắt đúng: {sum_count_true_yes_10} case\")\n",
    "# print(f\"-------------------------------------------------------------------------------------\")\n",
    "# print(f\"tỷ lệ bot bắt đúng: {total_confident_pass}\")\n",
    "# print(f\"tỷ lệ bot bắt đúng trên case vi phạm: {total_confident_fail}\")\n",
    "# print(f\"tỷ lệ bot bắt đúng trên case Yes_5: {total_confident_pass_yes_5}\")\n",
    "# # print(f\"tỷ lệ bot bắt đúng trên case Yes_10: {total_confident_pass_yes_10}\")"
   ]
  },
  {
   "cell_type": "code",
   "execution_count": 25,
   "metadata": {},
   "outputs": [
    {
     "name": "stdout",
     "output_type": "stream",
     "text": [
      "Successfully Report Save To 2024-10-18 09:07:54\n"
     ]
    }
   ],
   "source": [
    "from datetime import datetime\n",
    "\n",
    "# Lấy thời gian hiện tại\n",
    "now = datetime.now()\n",
    "\n",
    "# Định dạng thời gian hiện tại dưới dạng chuỗi\n",
    "current_time = now.strftime(\"%Y-%m-%d %H:%M:%S\")\n",
    "\n",
    "file_path = \"C:/Users/akuma/Downloads/NLP Service/Unit_test/TC_greeting_chuadenhan_amount_8_10.csv\"\n",
    "df = pd.DataFrame(data)\n",
    "df.to_csv(file_path, index= False)\n",
    "\n",
    "print(f\"Successfully Report Save To {current_time}\")"
   ]
  },
  {
   "cell_type": "markdown",
   "metadata": {},
   "source": [
    "Độ chính xác"
   ]
  },
  {
   "cell_type": "code",
   "execution_count": 18,
   "metadata": {},
   "outputs": [],
   "source": [
    "# output_sum = sum_count_true_yes + sum_count_true_no\n",
    "# fail_yes = sum_count_fail_yes - count_yes\n",
    "# fail_no = sum_count_fail_no - count_no\n",
    "# total_fail = fail_yes + fail_no\n",
    "# total_confident_pass = output_sum/len(expected_rs)*100\n",
    "# total_confident_fail = total_fail/len(expected_rs)*100\n",
    "# print(f\"tỷ lệ bot bắt đúng: {total_confident_pass}\")\n",
    "# print(f\"tỷ lệ bot bắt sai: {total_confident_fail}\")"
   ]
  },
  {
   "cell_type": "code",
   "execution_count": 19,
   "metadata": {},
   "outputs": [],
   "source": [
    "# count = 0\n",
    "# count_result_yes = 0\n",
    "# cout_result_fail = 0\n",
    "# test_result_NR_greet = []\n",
    "\n",
    "# fn = 0\n",
    "# for i in model_rs:\n",
    "#     for j in expected_rs:\n",
    "#         if i[\"file_name\"] == j[\"file_name\"]:\n",
    "#             if j[\"expected_result\"] == i[\"result\"]:\n",
    "#                 a = \"Pass\"\n",
    "#             else:\n",
    "#                 a=\"Fail\"\n",
    "#             test_result_NR_greet.append({\n",
    "#                     \"File_name\": i[\"file_name\"],\n",
    "#                     \"Expected_result\": j[\"expected_result\"],\n",
    "#                     \"predicted\": i[\"result\"],  \n",
    "#                     \"Test_Result\": a\n",
    "#             })\n",
    "\n",
    "# #output_sum = count + count_result_yes + cout_result_fail         \n",
    "# #a = count/len(expected_rs)*100"
   ]
  },
  {
   "cell_type": "code",
   "execution_count": 20,
   "metadata": {},
   "outputs": [],
   "source": [
    "# test_result_NR_greet"
   ]
  },
  {
   "cell_type": "markdown",
   "metadata": {},
   "source": [
    "Tính toán số lượng case Predicted = No"
   ]
  },
  {
   "cell_type": "code",
   "execution_count": 21,
   "metadata": {},
   "outputs": [],
   "source": [
    "# sum_count_true = sum(1 for item in test_result_NR_greet if item['Expected_result'] == item['predicted']== \"No\")\n",
    "# count_bot_predict_no = sum(1 for item in test_result_NR_greet if item['predicted']== \"No\")\n",
    "# sum_count_fail = count_bot_predict_no - sum_count_true\n",
    "# confident_lable_No_pass = sum_count_true /count_bot_predict_no * 100\n",
    "# confident_lable_No_fail = sum_count_fail / count_bot_predict_no * 100"
   ]
  },
  {
   "cell_type": "markdown",
   "metadata": {},
   "source": [
    "In ra số lượng của từng case"
   ]
  },
  {
   "cell_type": "code",
   "execution_count": 22,
   "metadata": {},
   "outputs": [],
   "source": [
    "# print (f\"tổng số lượng case bot predicted là No: {count_bot_predict_no} case\")\n",
    "# #print (f\"tổng số case bot bắt đúng: {sum_count_true} case, tỷ lệ bot trùng QC case vi phạm: {confident_lable_No_pass} %\")\n",
    "# #print (f\"tổng số case bot bắt sai: {sum_count_fail} case, tỷ lệ bot khác QC case vi phạm: {confident_lable_No_fail} %\")\n",
    "# print (f\"tổng số case bot bắt đúng: {sum_count_true} case\")\n",
    "# print (f\"tổng số case bot bắt sai: {sum_count_fail} case\")"
   ]
  },
  {
   "cell_type": "markdown",
   "metadata": {},
   "source": [
    "Tạo file csv từ json data (cách 1)"
   ]
  },
  {
   "cell_type": "code",
   "execution_count": 23,
   "metadata": {},
   "outputs": [],
   "source": [
    "# df = pd.DataFrame(test_result_NR_greet)\n",
    " \n",
    "# # Ghi dữ liệu vào file csv\n",
    "# df.to_csv('Report_Greeting_10_07_l1.csv', index=False)"
   ]
  },
  {
   "cell_type": "markdown",
   "metadata": {},
   "source": [
    "Tạo file csv từ json data (cách 2)"
   ]
  },
  {
   "cell_type": "code",
   "execution_count": 24,
   "metadata": {},
   "outputs": [],
   "source": [
    "# file_path = \"C:/Users/Admin/Downloads/Unit_test/Report_UnitTest/Report_Greeting/Report_Greeting_10_07_l1.csv\"\n",
    "# df = pd.DataFrame(test_result_NR_greet)\n",
    "# df.to_csv(file_path, index= False)\n",
    "\n",
    "# print(f\"Successfully Report Save To: {file_path}\")"
   ]
  }
 ],
 "metadata": {
  "kernelspec": {
   "display_name": "Python 3",
   "language": "python",
   "name": "python3"
  },
  "language_info": {
   "codemirror_mode": {
    "name": "ipython",
    "version": 3
   },
   "file_extension": ".py",
   "mimetype": "text/x-python",
   "name": "python",
   "nbconvert_exporter": "python",
   "pygments_lexer": "ipython3",
   "version": "3.11.9"
  }
 },
 "nbformat": 4,
 "nbformat_minor": 2
}
