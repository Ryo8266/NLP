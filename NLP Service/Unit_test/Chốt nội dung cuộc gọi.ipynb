{
 "cells": [
  {
   "cell_type": "code",
   "execution_count": 29,
   "metadata": {},
   "outputs": [],
   "source": [
    "import pandas as pd\n",
    "import json \n",
    "\n",
    "data = pd.read_csv(\"FEC collection_Scorecard_trehan(1).csv\")"
   ]
  },
  {
   "cell_type": "code",
   "execution_count": 30,
   "metadata": {},
   "outputs": [
    {
     "data": {
      "text/html": [
       "<div>\n",
       "<style scoped>\n",
       "    .dataframe tbody tr th:only-of-type {\n",
       "        vertical-align: middle;\n",
       "    }\n",
       "\n",
       "    .dataframe tbody tr th {\n",
       "        vertical-align: top;\n",
       "    }\n",
       "\n",
       "    .dataframe thead th {\n",
       "        text-align: right;\n",
       "    }\n",
       "</style>\n",
       "<table border=\"1\" class=\"dataframe\">\n",
       "  <thead>\n",
       "    <tr style=\"text-align: right;\">\n",
       "      <th></th>\n",
       "      <th>file_name</th>\n",
       "      <th>criterion_name</th>\n",
       "      <th>audit_result</th>\n",
       "      <th>reason</th>\n",
       "      <th>group</th>\n",
       "    </tr>\n",
       "  </thead>\n",
       "  <tbody>\n",
       "    <tr>\n",
       "      <th>0</th>\n",
       "      <td>0N8A4DKP250S19T3IJBL9MQHQC0023KD_2023-12-27_04...</td>\n",
       "      <td>CallClassify</td>\n",
       "      <td>EC</td>\n",
       "      <td>Call gọi cho EC\\nagent hỏi: bữa nay anh tâm có...</td>\n",
       "      <td>Collection</td>\n",
       "    </tr>\n",
       "    <tr>\n",
       "      <th>1</th>\n",
       "      <td>0OIM2CTEE10C34927RKO5VTGJC00DF7K_2024-01-19_07...</td>\n",
       "      <td>CallClassify</td>\n",
       "      <td>EC</td>\n",
       "      <td>Call gọi cho EC\\nagent hỏi: ừ em chào anh ạ an...</td>\n",
       "      <td>Collection</td>\n",
       "    </tr>\n",
       "    <tr>\n",
       "      <th>2</th>\n",
       "      <td>0OIM2CTEE10C34927RKO5VTGJC00GONA_2024-01-20_04...</td>\n",
       "      <td>CallClassify</td>\n",
       "      <td>WrongNumber</td>\n",
       "      <td>call gọi cho EC nhưng người nghe báo nhầm số\\n...</td>\n",
       "      <td>NaN</td>\n",
       "    </tr>\n",
       "    <tr>\n",
       "      <th>3</th>\n",
       "      <td>0OIM2CTEE10C34927RKO5VTGJC00GONA_2024-01-20_04...</td>\n",
       "      <td>CallAbnormal</td>\n",
       "      <td>Abnormal</td>\n",
       "      <td>NaN</td>\n",
       "      <td>NaN</td>\n",
       "    </tr>\n",
       "    <tr>\n",
       "      <th>4</th>\n",
       "      <td>0OIM2CTEE10C34927RKO5VTGJC00GONA_2024-01-20_04...</td>\n",
       "      <td>CallAbnormalClassify</td>\n",
       "      <td>wrong number</td>\n",
       "      <td>NaN</td>\n",
       "      <td>NaN</td>\n",
       "    </tr>\n",
       "    <tr>\n",
       "      <th>5</th>\n",
       "      <td>0OIM2CTEE10C34927RKO5VTGJC00O2RP_2024-01-23_01...</td>\n",
       "      <td>CallClassify</td>\n",
       "      <td>EC</td>\n",
       "      <td>Call gọi cho EC\\nagent hỏi: anh là người nhà c...</td>\n",
       "      <td>NaN</td>\n",
       "    </tr>\n",
       "    <tr>\n",
       "      <th>6</th>\n",
       "      <td>0OIM2CTEE10C34927RKO5VTGJC00VE38_2024-01-24_07...</td>\n",
       "      <td>CallResult</td>\n",
       "      <td>Willpay</td>\n",
       "      <td>NaN</td>\n",
       "      <td>NaN</td>\n",
       "    </tr>\n",
       "    <tr>\n",
       "      <th>7</th>\n",
       "      <td>0OIM2CTEE10C34927RKO5VTGJC00VE38_2024-01-24_07...</td>\n",
       "      <td>CallClassify</td>\n",
       "      <td>Client</td>\n",
       "      <td>NaN</td>\n",
       "      <td>NaN</td>\n",
       "    </tr>\n",
       "    <tr>\n",
       "      <th>8</th>\n",
       "      <td>0OIM2CTEE10C34927RKO5VTGJC00VE38_2024-01-24_07...</td>\n",
       "      <td>CallAbnormal</td>\n",
       "      <td>Normal</td>\n",
       "      <td>NaN</td>\n",
       "      <td>NaN</td>\n",
       "    </tr>\n",
       "    <tr>\n",
       "      <th>9</th>\n",
       "      <td>0OIM2CTEE10C34927RKO5VTGJC00VE38_2024-01-24_07...</td>\n",
       "      <td>CallAbnormalClassify</td>\n",
       "      <td>normal</td>\n",
       "      <td>NaN</td>\n",
       "      <td>NaN</td>\n",
       "    </tr>\n",
       "    <tr>\n",
       "      <th>10</th>\n",
       "      <td>0OIM2CTEE10C34927RKO5VTGJC00VE38_2024-01-24_07...</td>\n",
       "      <td>Customer response after reason of the call</td>\n",
       "      <td>Willpay</td>\n",
       "      <td>KH: ừ thì ra đóng mà</td>\n",
       "      <td>NaN</td>\n",
       "    </tr>\n",
       "    <tr>\n",
       "      <th>11</th>\n",
       "      <td>0OIM2CTEE10C34927RKO5VTGJC00VE38_2024-01-24_07...</td>\n",
       "      <td>Suspicious fraud</td>\n",
       "      <td>No</td>\n",
       "      <td>KH không nghi ngờ gian lận</td>\n",
       "      <td>NaN</td>\n",
       "    </tr>\n",
       "    <tr>\n",
       "      <th>12</th>\n",
       "      <td>0OIM2CTEE10C34927RKO5VTGJC00VE38_2024-01-24_07...</td>\n",
       "      <td>Chào hỏi</td>\n",
       "      <td>Yes_5</td>\n",
       "      <td>- chào hỏi: có chào (em chào anh =&gt; asr không...</td>\n",
       "      <td>NaN</td>\n",
       "    </tr>\n",
       "    <tr>\n",
       "      <th>13</th>\n",
       "      <td>0OIM2CTEE10C34927RKO5VTGJC00VE38_2024-01-24_07...</td>\n",
       "      <td>Thông báo về hợp đồng của khách hàng</td>\n",
       "      <td>No</td>\n",
       "      <td>agent nói: dạ không không em bảo này có nghĩa ...</td>\n",
       "      <td>NaN</td>\n",
       "    </tr>\n",
       "    <tr>\n",
       "      <th>14</th>\n",
       "      <td>0OIM2CTEE10C34927RKO5VTGJC00VE38_2024-01-24_07...</td>\n",
       "      <td>Làm rõ lí do Khách hàng không thanh toán sớm/t...</td>\n",
       "      <td>No</td>\n",
       "      <td>agent không hỏi lý do chưa thanh toán, KH khôn...</td>\n",
       "      <td>NaN</td>\n",
       "    </tr>\n",
       "    <tr>\n",
       "      <th>15</th>\n",
       "      <td>0OIM2CTEE10C34927RKO5VTGJC00VE38_2024-01-24_07...</td>\n",
       "      <td>Xử lý từ chối do không có thiện chí thanh toán</td>\n",
       "      <td>Yes_20</td>\n",
       "      <td>không có tình huống từ chối, KH đồng ý thanh toán</td>\n",
       "      <td>NaN</td>\n",
       "    </tr>\n",
       "  </tbody>\n",
       "</table>\n",
       "</div>"
      ],
      "text/plain": [
       "                                            file_name  \\\n",
       "0   0N8A4DKP250S19T3IJBL9MQHQC0023KD_2023-12-27_04...   \n",
       "1   0OIM2CTEE10C34927RKO5VTGJC00DF7K_2024-01-19_07...   \n",
       "2   0OIM2CTEE10C34927RKO5VTGJC00GONA_2024-01-20_04...   \n",
       "3   0OIM2CTEE10C34927RKO5VTGJC00GONA_2024-01-20_04...   \n",
       "4   0OIM2CTEE10C34927RKO5VTGJC00GONA_2024-01-20_04...   \n",
       "5   0OIM2CTEE10C34927RKO5VTGJC00O2RP_2024-01-23_01...   \n",
       "6   0OIM2CTEE10C34927RKO5VTGJC00VE38_2024-01-24_07...   \n",
       "7   0OIM2CTEE10C34927RKO5VTGJC00VE38_2024-01-24_07...   \n",
       "8   0OIM2CTEE10C34927RKO5VTGJC00VE38_2024-01-24_07...   \n",
       "9   0OIM2CTEE10C34927RKO5VTGJC00VE38_2024-01-24_07...   \n",
       "10  0OIM2CTEE10C34927RKO5VTGJC00VE38_2024-01-24_07...   \n",
       "11  0OIM2CTEE10C34927RKO5VTGJC00VE38_2024-01-24_07...   \n",
       "12  0OIM2CTEE10C34927RKO5VTGJC00VE38_2024-01-24_07...   \n",
       "13  0OIM2CTEE10C34927RKO5VTGJC00VE38_2024-01-24_07...   \n",
       "14  0OIM2CTEE10C34927RKO5VTGJC00VE38_2024-01-24_07...   \n",
       "15  0OIM2CTEE10C34927RKO5VTGJC00VE38_2024-01-24_07...   \n",
       "\n",
       "                                       criterion_name  audit_result  \\\n",
       "0                                        CallClassify            EC   \n",
       "1                                        CallClassify            EC   \n",
       "2                                        CallClassify   WrongNumber   \n",
       "3                                        CallAbnormal      Abnormal   \n",
       "4                                CallAbnormalClassify  wrong number   \n",
       "5                                        CallClassify            EC   \n",
       "6                                          CallResult       Willpay   \n",
       "7                                        CallClassify        Client   \n",
       "8                                        CallAbnormal        Normal   \n",
       "9                                CallAbnormalClassify        normal   \n",
       "10         Customer response after reason of the call       Willpay   \n",
       "11                                   Suspicious fraud            No   \n",
       "12                                           Chào hỏi         Yes_5   \n",
       "13               Thông báo về hợp đồng của khách hàng            No   \n",
       "14  Làm rõ lí do Khách hàng không thanh toán sớm/t...            No   \n",
       "15     Xử lý từ chối do không có thiện chí thanh toán        Yes_20   \n",
       "\n",
       "                                               reason       group  \n",
       "0   Call gọi cho EC\\nagent hỏi: bữa nay anh tâm có...  Collection  \n",
       "1   Call gọi cho EC\\nagent hỏi: ừ em chào anh ạ an...  Collection  \n",
       "2   call gọi cho EC nhưng người nghe báo nhầm số\\n...         NaN  \n",
       "3                                                 NaN         NaN  \n",
       "4                                                 NaN         NaN  \n",
       "5   Call gọi cho EC\\nagent hỏi: anh là người nhà c...         NaN  \n",
       "6                                                 NaN         NaN  \n",
       "7                                                 NaN         NaN  \n",
       "8                                                 NaN         NaN  \n",
       "9                                                 NaN         NaN  \n",
       "10                               KH: ừ thì ra đóng mà         NaN  \n",
       "11                         KH không nghi ngờ gian lận         NaN  \n",
       "12   - chào hỏi: có chào (em chào anh => asr không...         NaN  \n",
       "13  agent nói: dạ không không em bảo này có nghĩa ...         NaN  \n",
       "14  agent không hỏi lý do chưa thanh toán, KH khôn...         NaN  \n",
       "15  không có tình huống từ chối, KH đồng ý thanh toán         NaN  "
      ]
     },
     "execution_count": 30,
     "metadata": {},
     "output_type": "execute_result"
    }
   ],
   "source": [
    "data.head(16)"
   ]
  },
  {
   "cell_type": "code",
   "execution_count": 31,
   "metadata": {},
   "outputs": [],
   "source": [
    "# # Không có nhãn thì dùng\n",
    "# df_filtered = data.dropna(subset=['audit_result'])\n",
    "# df_filtered.to_csv('FEC collection_Scorecard_chuadenhan(1).csv', index=False)"
   ]
  },
  {
   "cell_type": "code",
   "execution_count": 32,
   "metadata": {},
   "outputs": [],
   "source": [
    "expected_rs = []\n",
    "for i in range(len(data)):\n",
    "    if data[\"criterion_name\"][i] == \"Chốt nội dung cuộc gọi\":\n",
    "        expected_rs.append({\n",
    "            \"file_name\": data[\"file_name\"][i],\n",
    "            \"expected_result\": data[\"audit_result\"][i]\n",
    "        })"
   ]
  },
  {
   "cell_type": "code",
   "execution_count": 33,
   "metadata": {},
   "outputs": [],
   "source": [
    "count_rs_no = 0\n",
    "count_rs_yes_5 = 0\n",
    "for i in range(len(data)):\n",
    "    if data [\"criterion_name\"][i] == \"Chốt nội dung cuộc gọi\":\n",
    "        if data[\"audit_result\"][i] == \"No\":\n",
    "            count_rs_no +=1\n",
    "        if data[\"audit_result\"][i] == \"Yes_5\":\n",
    "            count_rs_yes_5 +=1"
   ]
  },
  {
   "cell_type": "code",
   "execution_count": 34,
   "metadata": {},
   "outputs": [],
   "source": [
    "with open(\"C:/Users/akuma/Downloads/NLP Service/Unit_test/result/result_sumOH_17_10_trehan.json\", \"r\") as f:\n",
    "    model_rs = json.load(f)"
   ]
  },
  {
   "cell_type": "markdown",
   "metadata": {},
   "source": [
    "tổng số lượng call"
   ]
  },
  {
   "cell_type": "code",
   "execution_count": 35,
   "metadata": {},
   "outputs": [
    {
     "data": {
      "text/plain": [
       "753"
      ]
     },
     "execution_count": 35,
     "metadata": {},
     "output_type": "execute_result"
    }
   ],
   "source": [
    "len(model_rs)"
   ]
  },
  {
   "cell_type": "markdown",
   "metadata": {},
   "source": [
    "Số lượng nhãn trong file CSV"
   ]
  },
  {
   "cell_type": "code",
   "execution_count": 36,
   "metadata": {},
   "outputs": [
    {
     "data": {
      "text/plain": [
       "169"
      ]
     },
     "execution_count": 36,
     "metadata": {},
     "output_type": "execute_result"
    }
   ],
   "source": [
    "len(expected_rs)"
   ]
  },
  {
   "cell_type": "markdown",
   "metadata": {},
   "source": [
    "Xử lý dữ liệu đếm số lượng các phần tử có trong mảng"
   ]
  },
  {
   "cell_type": "code",
   "execution_count": 37,
   "metadata": {},
   "outputs": [],
   "source": [
    "count_result_no = 0\n",
    "count_result_yes_5 = 0\n",
    "cout_result_fail = 0\n",
    "fn = 0\n",
    "for i in model_rs:\n",
    "    for j in expected_rs:\n",
    "        if i[\"file_name\"] == j[\"file_name\"]:\n",
    "            if j[\"expected_result\"] == i[\"result\"] == \"No\":\n",
    "                count_result_no +=1\n",
    "            if j[\"expected_result\"] == i[\"result\"] == \"Yes_5\":\n",
    "                count_result_yes_5 +=1\n",
    "            if j[\"expected_result\"] != i[\"result\"]:\n",
    "                cout_result_fail +=1\n",
    "            fn +=1\n",
    "#output_sum = count + count_result_yes + cout_result_fail         \n",
    "#a = count/len(expected_rs)*100"
   ]
  },
  {
   "cell_type": "markdown",
   "metadata": {},
   "source": [
    "In số lượng"
   ]
  },
  {
   "cell_type": "code",
   "execution_count": 38,
   "metadata": {},
   "outputs": [
    {
     "name": "stdout",
     "output_type": "stream",
     "text": [
      "Tiêu chí SumOH\n",
      "Số lượng nhãn có Expected là No (các case vi phạm) trùng nhau: 80\n",
      "Số lượng nhãn có Expected là Yes_5 (các case không vi phạm) trùng nhau: 79\n",
      "Số lượng nhãn có Expected không trùng nhau (bot bắt sai): 10\n"
     ]
    }
   ],
   "source": [
    "print (\"Tiêu chí SumOH\")\n",
    "print(f\"Số lượng nhãn có Expected là No (các case vi phạm) trùng nhau: {count_result_no}\")\n",
    "print(f\"Số lượng nhãn có Expected là Yes_5 (các case không vi phạm) trùng nhau: {count_result_yes_5}\")\n",
    "print(f\"Số lượng nhãn có Expected không trùng nhau (bot bắt sai): {cout_result_fail}\")"
   ]
  },
  {
   "cell_type": "code",
   "execution_count": 39,
   "metadata": {},
   "outputs": [],
   "source": [
    "count = 0\n",
    "count_result_yes = 0\n",
    "cout_result_fail = 0\n",
    "test_result_TC_3 = []\n",
    "\n",
    "fn = 0\n",
    "for i in model_rs:\n",
    "    for j in expected_rs:\n",
    "        if i[\"file_name\"] == j[\"file_name\"]:\n",
    "            if j[\"expected_result\"] == i[\"result\"]:\n",
    "                a = \"Pass\"\n",
    "            else:\n",
    "                a=\"Fail\"\n",
    "            test_result_TC_3.append({\n",
    "                    \"File_name\": i[\"file_name\"],\n",
    "                    \"Expected_result\": j[\"expected_result\"],\n",
    "                    \"predicted\": i[\"result\"],  \n",
    "                    \"Test_Result\": a\n",
    "            })\n",
    "\n",
    "#output_sum = count + count_result_yes + cout_result_fail         \n",
    "#a = count/len(expected_rs)*100"
   ]
  },
  {
   "cell_type": "code",
   "execution_count": 40,
   "metadata": {},
   "outputs": [],
   "source": [
    "import pandas as pd\n",
    "import numpy as np\n",
    "\n",
    "data = test_result_TC_3\n",
    "\n",
    "df = pd.DataFrame(data)\n",
    "\n",
    "count_no = df[(df['Expected_result'].isna()) & (df['predicted'] == 'No')].shape[0]\n",
    "count_yes_5 = df[(df['Expected_result'].isna()) & (df['predicted'] == 'Yes_5')].shape[0]\n",
    "count_yes = count_yes_5"
   ]
  },
  {
   "cell_type": "code",
   "execution_count": 41,
   "metadata": {},
   "outputs": [
    {
     "name": "stdout",
     "output_type": "stream",
     "text": [
      "Số case Expected = N/A bot Predicted = Yes: 0\n",
      "Số case Expected = N/A bot Predicted = No: 0\n"
     ]
    }
   ],
   "source": [
    "print(f\"Số case Expected = N/A bot Predicted = Yes: {count_yes}\")\n",
    "print(f\"Số case Expected = N/A bot Predicted = No: {count_no}\")"
   ]
  },
  {
   "cell_type": "code",
   "execution_count": 42,
   "metadata": {},
   "outputs": [],
   "source": [
    "sum_count_true_no = sum(1 for item in test_result_TC_3 if item['Expected_result'] == item['predicted']== \"No\")\n",
    "\n",
    "sum_count_true_yes_5 = sum(1 for item in test_result_TC_3 if item['Expected_result'] == item['predicted']== \"Yes_5\")\n",
    "\n",
    "count_bot_predict_no = sum(1 for item in test_result_TC_3 if item['predicted']== \"No\")\n",
    "\n",
    "count_bot_predict_yes_5 = sum(1 for item in test_result_TC_3 if item['predicted']== \"Yes_5\")\n",
    "\n",
    "\n",
    "sum_count_bot_predict_yes = count_bot_predict_yes_5\n",
    "sum_count_true_yes = sum_count_true_yes_5\n",
    "\n",
    "sum_count_fail_yes = sum_count_bot_predict_yes - sum_count_true_yes\n",
    "\n",
    "sum_count_fail_no = count_bot_predict_no - sum_count_true_no\n",
    "\n",
    "output_sum = sum_count_true_yes + sum_count_true_no\n",
    "total_confident_pass = \"{:.2f}\".format(output_sum/len(expected_rs) * 100)\n",
    "total_confident_pass_yes_5 = \"{:.2f}\".format((sum_count_true_yes_5/count_bot_predict_yes_5) * 100)\n",
    "total_confident_fail = \"{:.2f}\".format(sum_count_true_no/count_bot_predict_no * 100)"
   ]
  },
  {
   "cell_type": "code",
   "execution_count": 43,
   "metadata": {},
   "outputs": [
    {
     "name": "stdout",
     "output_type": "stream",
     "text": [
      "Kết quả test với 169 có nhãn\n",
      "Tập test có 83 case Yes_5\n",
      "Tập test có 86 case No\n",
      "-------------------------------------------------------------------------------------\n",
      "Tổng số case bot Predicted là Yes_5: 85 case\n",
      "Tổng số case Yes_5 bot bắt đúng: 79 case\n",
      "-------------------------------------------------------------------------------------\n",
      "Tổng số case bot Predicted là No: 84 case\n",
      "Tổng số case bot bắt đúng: 80 case\n",
      "-------------------------------------------------------------------------------------\n",
      "tỷ lệ bot bắt đúng: 94.08\n",
      "tỷ lệ bot bắt đúng trên case Yes_5: 92.94\n",
      "tỷ lệ bot bắt đúng trên case No: 95.24\n"
     ]
    }
   ],
   "source": [
    "print(f\"Kết quả test với {len(expected_rs)} có nhãn\")\n",
    "print(f\"Tập test có {count_rs_yes_5} case Yes_5\")\n",
    "print(f\"Tập test có {count_rs_no} case No\")\n",
    "print(f\"-------------------------------------------------------------------------------------\")\n",
    "print(f\"Tổng số case bot Predicted là Yes_5: {count_bot_predict_yes_5} case\")\n",
    "print(f\"Tổng số case Yes_5 bot bắt đúng: {sum_count_true_yes_5} case\")\n",
    "print(f\"-------------------------------------------------------------------------------------\")\n",
    "print(f\"Tổng số case bot Predicted là No: {count_bot_predict_no} case\")\n",
    "print(f\"Tổng số case bot bắt đúng: {sum_count_true_no} case\")\n",
    "print(f\"-------------------------------------------------------------------------------------\")\n",
    "print(f\"tỷ lệ bot bắt đúng: {total_confident_pass}\")\n",
    "print(f\"tỷ lệ bot bắt đúng trên case Yes_5: {total_confident_pass_yes_5}\")\n",
    "print(f\"tỷ lệ bot bắt đúng trên case No: {total_confident_fail}\")"
   ]
  },
  {
   "cell_type": "code",
   "execution_count": 44,
   "metadata": {},
   "outputs": [],
   "source": [
    "# print(f\"Kết quả test với {len(expected_rs)} có nhãn\")\n",
    "# print(f\"Tập test có {count_rs_no} case No\")\n",
    "# print(f\"Tập test có {count_rs_yes_5} case Yes_5\")\n",
    "# print(f\"-------------------------------------------------------------------------------------\")\n",
    "# print(f\"Tổng số case bot Predicted là Yes (case không vi phạm): {sum_count_bot_predict_yes} case\")\n",
    "# print(f\"Tổng số case (không vi phạm) bot bắt đúng: {sum_count_true_yes} case\")\n",
    "# print(f\"-------------------------------------------------------------------------------------\")\n",
    "# print(f\"Tổng số case (không vi phạm) bot bắt sai: {sum_count_fail_yes} case\")\n",
    "# print(f\"Tổng số case Expected N/A bot Predicted Yes: {count_yes} case\")\n",
    "# print(f\"Tổng số case còn lại Expected = No bot Predicted = Yes: {sum_count_fail_yes - count_yes} case\")\n",
    "# print(f\"-------------------------------------------------------------------------------------\")\n",
    "# print(f\"Tổng số case bot Predicted là No (case vi phạm): {count_bot_predict_no} case\")\n",
    "# print(f\"Tổng số case (vi phạm) bot bắt đúng: {sum_count_true_no} case\")\n",
    "# print(f\"-------------------------------------------------------------------------------------\")\n",
    "# print(f\"Tổng số case (vi phạm) bot bắt sai: {sum_count_fail_no} case\")\n",
    "# print(f\"Tổng số case Expected N/A bot Predicted = No: {count_no} case\")\n",
    "# print(f\"Tổng số case sai còn lại Trường hợp Expected = Yes bot Predicted = No: {sum_count_fail_no - count_no} case\")\n",
    "# print(f\"-------------------------------------------------------------------------------------\")\n",
    "# print(f\"tỷ lệ bot bắt đúng: {total_confident_pass}\")\n",
    "# print(f\"tỷ lệ bot bắt đúng trên case vi phạm: {total_confident_fail}\")"
   ]
  },
  {
   "cell_type": "code",
   "execution_count": 45,
   "metadata": {},
   "outputs": [],
   "source": [
    "from datetime import datetime\n",
    "\n",
    "# Lấy thời gian hiện tại\n",
    "now = datetime.now()\n",
    "\n",
    "# Định dạng thời gian hiện tại dưới dạng chuỗi\n",
    "current_time = now.strftime(\"%Y-%m-%d %H:%M:%S\")\n",
    "\n",
    "file_path = \"C:/Users/akuma/Downloads/NLP Service/Unit_test/TC_sumOH_15_10.csv\"\n",
    "df = pd.DataFrame(data)\n",
    "df.to_csv(file_path, index= False)\n",
    "\n",
    "# print(f\"Successfully Report Save To {current_time}\")"
   ]
  },
  {
   "cell_type": "markdown",
   "metadata": {},
   "source": [
    "Độ chính xác"
   ]
  },
  {
   "cell_type": "code",
   "execution_count": 46,
   "metadata": {},
   "outputs": [],
   "source": [
    "# output_sum = count_result_no + count_result_yes_5 + count_result_yes_10\n",
    "# total_confident_pass = output_sum/len(expected_rs)*100\n",
    "# total_confident_fail = cout_result_fail/len(expected_rs)*100\n",
    "# print(f\"tỷ lệ bot bắt đúng: {total_confident_pass}\")\n",
    "# print(f\"tỷ lệ bot bắt sai: {total_confident_fail}\")"
   ]
  },
  {
   "cell_type": "code",
   "execution_count": 47,
   "metadata": {},
   "outputs": [],
   "source": [
    "# count = 0\n",
    "# count_result_yes = 0\n",
    "# cout_result_fail = 0\n",
    "# test_result_NR_greet = []\n",
    "\n",
    "# fn = 0\n",
    "# for i in model_rs:\n",
    "#     for j in expected_rs:\n",
    "#         if i[\"file_name\"] == j[\"file_name\"]:\n",
    "#             if j[\"expected_result\"] == i[\"result\"]:\n",
    "#                 a = \"Pass\"\n",
    "#             else:\n",
    "#                 a=\"Fail\"\n",
    "#             test_result_NR_greet.append({\n",
    "#                     \"File_name\": i[\"file_name\"],\n",
    "#                     \"Expected_result\": j[\"expected_result\"],\n",
    "#                     \"predicted\": i[\"result\"],  \n",
    "#                     \"Test_Result\": a\n",
    "#             })\n",
    "\n",
    "# #output_sum = count + count_result_yes + cout_result_fail         \n",
    "# #a = count/len(expected_rs)*100"
   ]
  },
  {
   "cell_type": "code",
   "execution_count": 48,
   "metadata": {},
   "outputs": [],
   "source": [
    "# test_result_NR_greet"
   ]
  },
  {
   "cell_type": "markdown",
   "metadata": {},
   "source": [
    "Tính toán số lượng case Predicted = No"
   ]
  },
  {
   "cell_type": "code",
   "execution_count": 49,
   "metadata": {},
   "outputs": [],
   "source": [
    "# sum_count_true = sum(1 for item in test_result_NR_greet if item['Expected_result'] == item['predicted']== \"No\")\n",
    "# count_bot_predict_no = sum(1 for item in test_result_NR_greet if item['predicted']== \"No\")\n",
    "# sum_count_fail = count_bot_predict_no - sum_count_true\n",
    "# confident_lable_No_pass = sum_count_true /count_bot_predict_no * 100\n",
    "# confident_lable_No_fail = sum_count_fail / count_bot_predict_no * 100"
   ]
  },
  {
   "cell_type": "markdown",
   "metadata": {},
   "source": [
    "In ra số lượng của từng case"
   ]
  },
  {
   "cell_type": "code",
   "execution_count": 50,
   "metadata": {},
   "outputs": [],
   "source": [
    "# print (f\"tổng số lượng case bot predicted là No: {count_bot_predict_no} case\")\n",
    "# #print (f\"tổng số case bot bắt đúng: {sum_count_true} case, tỷ lệ bot trùng QC case vi phạm: {confident_lable_No_pass} %\")\n",
    "# #print (f\"tổng số case bot bắt sai: {sum_count_fail} case, tỷ lệ bot khác QC case vi phạm: {confident_lable_No_fail} %\")\n",
    "# print (f\"tổng số case bot bắt đúng: {sum_count_true} case\")\n",
    "# print (f\"tổng số case bot bắt sai: {sum_count_fail} case\")"
   ]
  },
  {
   "cell_type": "markdown",
   "metadata": {},
   "source": [
    "Tạo file csv từ json data (cách 1)"
   ]
  },
  {
   "cell_type": "code",
   "execution_count": 51,
   "metadata": {},
   "outputs": [],
   "source": [
    "# df = pd.DataFrame(test_result_NR_greet)\n",
    " \n",
    "# # Ghi dữ liệu vào file csv\n",
    "# df.to_csv('Report_Greeting_10_07_l1.csv', index=False)"
   ]
  },
  {
   "cell_type": "markdown",
   "metadata": {},
   "source": [
    "Tạo file csv từ json data (cách 2)"
   ]
  },
  {
   "cell_type": "code",
   "execution_count": 52,
   "metadata": {},
   "outputs": [],
   "source": [
    "# file_path = \"C:/Users/Admin/Downloads/Unit_test/Report_UnitTest/Report_Greeting/Report_Greeting_10_07_l1.csv\"\n",
    "# df = pd.DataFrame(test_result_NR_greet)\n",
    "# df.to_csv(file_path, index= False)\n",
    "\n",
    "# print(f\"Successfully Report Save To: {file_path}\")"
   ]
  }
 ],
 "metadata": {
  "kernelspec": {
   "display_name": "Python 3",
   "language": "python",
   "name": "python3"
  },
  "language_info": {
   "codemirror_mode": {
    "name": "ipython",
    "version": 3
   },
   "file_extension": ".py",
   "mimetype": "text/x-python",
   "name": "python",
   "nbconvert_exporter": "python",
   "pygments_lexer": "ipython3",
   "version": "3.11.9"
  }
 },
 "nbformat": 4,
 "nbformat_minor": 2
}
